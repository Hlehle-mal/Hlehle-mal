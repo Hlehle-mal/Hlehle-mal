{
  "cells": [
    {
      "cell_type": "code",
      "execution_count": null,
      "metadata": {
        "colab": {
          "background_save": true
        },
        "id": "9EjIl3Tuwm6t"
      },
      "outputs": [],
      "source": [
        "import random\n",
        "user_wins = 0\n",
        "computer_wins = 0\n"
      ]
    },
    {
      "cell_type": "code",
      "execution_count": null,
      "metadata": {
        "colab": {
          "background_save": true
        },
        "id": "JfnljBbh79wm"
      },
      "outputs": [],
      "source": [
        "options = [\"rock\", \"paper\", \"scissors\"]"
      ]
    },
    {
      "cell_type": "code",
      "execution_count": 9,
      "metadata": {
        "id": "BQPkwMnl3PqP",
        "colab": {
          "base_uri": "https://localhost:8080/"
        },
        "outputId": "c569e4d4-b2d6-4d46-d49d-4ea63431e95d"
      },
      "outputs": [
        {
          "output_type": "stream",
          "name": "stdout",
          "text": [
            "Type Rock/Paper/Scissors or Q to quit: rock\n",
            "Computer picked paper.\n",
            "You lost!\n",
            "Type Rock/Paper/Scissors or Q to quit: paper\n",
            "Computer picked rock.\n",
            "You won!\n",
            "Type Rock/Paper/Scissors or Q to quit: scissors\n",
            "Computer picked rock.\n",
            "You lost!\n",
            "Type Rock/Paper/Scissors or Q to quit: scissors\n",
            "Computer picked paper.\n",
            "You won!\n",
            "Type Rock/Paper/Scissors or Q to quit: hg\n",
            "Type Rock/Paper/Scissors or Q to quit: q\n",
            "You won 2 times\n",
            "The computer won 2 times\n",
            "Goodbye!\n"
          ]
        }
      ],
      "source": [
        "\n",
        "while True:\n",
        "  user_input = input(\"Type Rock/Paper/Scissors or Q to quit: \").lower()\n",
        "  if user_input == \"q\": \n",
        "    break \n",
        "  #breaks the while loop, we will be at the end of the programme.\n",
        "  if user_input not in options:  #a list of options the user can input \n",
        "     continue \n",
        "    #Sends the user back to the beginning of the while loop \n",
        "\n",
        "  random_number = random.randint(0,2)\n",
        "  #rock:0, paper:1, scissors:2\n",
        "  computer_pick = options[random_number]\n",
        "  print(\"Computer picked\", computer_pick + \".\")\n",
        "\n",
        "  if user_input == \"rock\" and computer_pick == \"scissors\":\n",
        "    print(\"You won!\")\n",
        "    user_wins += 1\n",
        "\n",
        "\n",
        "  elif user_input == \"paper\" and computer_pick == \"rock\":\n",
        "    print(\"You won!\")\n",
        "    user_wins += 1\n",
        " \n",
        "\n",
        "  elif user_input == \"scissors\" and computer_pick == \"paper\":\n",
        "    print(\"You won!\")\n",
        "    user_wins += 1\n",
        "\n",
        "  else:\n",
        "    print(\"You lost!\")\n",
        "    computer_wins += 1 \n",
        "\n",
        "print(\"You won \" + str(user_wins) + \" times\")\n",
        "print(\"The computer won \" + str(computer_wins) + \" times\")\n",
        "\n",
        "print(\"Goodbye!\")\n",
        "  \n",
        " \n",
        "\n",
        "\n",
        "\n"
      ]
    },
    {
      "cell_type": "code",
      "execution_count": null,
      "metadata": {
        "id": "35_3GxZI3P9L"
      },
      "outputs": [],
      "source": [
        ""
      ]
    },
    {
      "cell_type": "code",
      "execution_count": null,
      "metadata": {
        "id": "gsOpWSg93QAA"
      },
      "outputs": [],
      "source": [
        ""
      ]
    },
    {
      "cell_type": "code",
      "execution_count": null,
      "metadata": {
        "id": "rbS4LwO43QCd"
      },
      "outputs": [],
      "source": [
        ""
      ]
    },
    {
      "cell_type": "code",
      "execution_count": null,
      "metadata": {
        "id": "CB0qA4pc3QE8"
      },
      "outputs": [],
      "source": [
        ""
      ]
    },
    {
      "cell_type": "code",
      "execution_count": null,
      "metadata": {
        "id": "Hau-tIxb3QHX"
      },
      "outputs": [],
      "source": [
        ""
      ]
    },
    {
      "cell_type": "code",
      "execution_count": null,
      "metadata": {
        "id": "stcmq1Kt3QJ2"
      },
      "outputs": [],
      "source": [
        ""
      ]
    },
    {
      "cell_type": "code",
      "execution_count": null,
      "metadata": {
        "id": "JxL6aTBN3QM0"
      },
      "outputs": [],
      "source": [
        ""
      ]
    },
    {
      "cell_type": "code",
      "execution_count": null,
      "metadata": {
        "id": "ThnPEDVg3QPP"
      },
      "outputs": [],
      "source": [
        ""
      ]
    },
    {
      "cell_type": "code",
      "execution_count": null,
      "metadata": {
        "id": "SZUZx8Vx3QRs"
      },
      "outputs": [],
      "source": [
        ""
      ]
    },
    {
      "cell_type": "code",
      "execution_count": null,
      "metadata": {
        "id": "D0KXZdmh3QUW"
      },
      "outputs": [],
      "source": [
        ""
      ]
    },
    {
      "cell_type": "code",
      "execution_count": null,
      "metadata": {
        "id": "_hymCLcy3QWh"
      },
      "outputs": [],
      "source": [
        ""
      ]
    },
    {
      "cell_type": "code",
      "execution_count": null,
      "metadata": {
        "id": "Fq6qT9MR3QZH"
      },
      "outputs": [],
      "source": [
        ""
      ]
    },
    {
      "cell_type": "code",
      "execution_count": null,
      "metadata": {
        "id": "17Go-rBY3QcK"
      },
      "outputs": [],
      "source": [
        ""
      ]
    },
    {
      "cell_type": "code",
      "execution_count": null,
      "metadata": {
        "id": "JSHVB0M53QfM"
      },
      "outputs": [],
      "source": [
        ""
      ]
    },
    {
      "cell_type": "code",
      "execution_count": null,
      "metadata": {
        "id": "cS08rU9Y3Qhf"
      },
      "outputs": [],
      "source": [
        ""
      ]
    },
    {
      "cell_type": "code",
      "execution_count": null,
      "metadata": {
        "id": "cknM9lhD3Qk-"
      },
      "outputs": [],
      "source": [
        ""
      ]
    }
  ],
  "metadata": {
    "colab": {
      "name": "RockPaperScisors.ipynb",
      "provenance": []
    },
    "kernelspec": {
      "display_name": "Python 3",
      "name": "python3"
    },
    "language_info": {
      "name": "python"
    }
  },
  "nbformat": 4,
  "nbformat_minor": 0
}